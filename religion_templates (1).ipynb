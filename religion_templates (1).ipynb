{
  "nbformat": 4,
  "nbformat_minor": 0,
  "metadata": {
    "colab": {
      "provenance": []
    },
    "kernelspec": {
      "name": "python3",
      "display_name": "Python 3"
    },
    "language_info": {
      "name": "python"
    }
  },
  "cells": [
    {
      "cell_type": "code",
      "execution_count": null,
      "metadata": {
        "id": "tSMKqiceMRd0"
      },
      "outputs": [],
      "source": [
        "import pandas as pd\n",
        "import zipfile\n",
        "import os"
      ]
    },
    {
      "cell_type": "code",
      "source": [
        "from google.colab import drive, files\n",
        "drive.mount('/content/drive')"
      ],
      "metadata": {
        "colab": {
          "base_uri": "https://localhost:8080/"
        },
        "id": "Fs-XyufTNj_B",
        "outputId": "57231ab5-ce18-45dc-d384-7e80e032a1fb"
      },
      "execution_count": null,
      "outputs": [
        {
          "output_type": "stream",
          "name": "stdout",
          "text": [
            "Mounted at /content/drive\n"
          ]
        }
      ]
    },
    {
      "cell_type": "code",
      "source": [
        "zip_ref = zipfile.ZipFile('/content/drive/MyDrive/religion.zip')\n",
        "zip_ref.extractall('/tmp')\n",
        "zip_ref.close()"
      ],
      "metadata": {
        "id": "horq3DuSSVEu"
      },
      "execution_count": null,
      "outputs": []
    },
    {
      "cell_type": "code",
      "source": [
        "extracted_files = os.listdir('/tmp')\n",
        "print(\"Extracted files:\", extracted_files)"
      ],
      "metadata": {
        "id": "Ec8cn595SZ8Q",
        "colab": {
          "base_uri": "https://localhost:8080/"
        },
        "outputId": "5611a439-07a9-4de6-d9d8-76dfbe28d161"
      },
      "execution_count": null,
      "outputs": [
        {
          "output_type": "stream",
          "name": "stdout",
          "text": [
            "Extracted files: ['language_service.INFO', 'drive.WARNING', 'colab_runtime.sock', 'pyright-348-c5EwzttiyzEO', 'directoryprefetcher_binary.c86bfb277813.root.log.INFO.20250101-182234.1231', 'debugger_1mjb977koc', 'pyright-348-SOX8be4XKXGa', 'drive.c86bfb277813.root.log.ERROR.20250101-182230.1120', 'drivefs_ipc.0', 'drive.c86bfb277813.root.log.INFO.20250101-182229.1120', 'drive.c86bfb277813.root.log.INFO.20250101-182224.1011', 'drive.c86bfb277813.root.log.ERROR.20250101-182225.1018', 'python-languageserver-cancellation', 'drive.c86bfb277813.root.log.INFO.20250101-182225.1018', 'dap_multiplexer.c86bfb277813.root.log.INFO.20250101-181855.89', 'religion_templates.csv', 'directoryprefetcher_binary.INFO', '__MACOSX', 'drive.ERROR', 'religion_terms.csv', 'drive.INFO', 'drive.c86bfb277813.root.log.WARNING.20250101-182230.1120', 'initgoogle_syslog_dir.0', 'language_service.c86bfb277813.root.log.INFO.20250101-181945.341', 'dap_multiplexer.INFO', 'drive.c86bfb277813.root.log.INFO.20250101-182229.1011', 'drive.c86bfb277813.root.log.WARNING.20250101-182225.1018', 'drivefs_ipc.0_shell']\n"
          ]
        }
      ]
    },
    {
      "cell_type": "code",
      "source": [
        "if 'religion' in extracted_files:\n",
        "    religion_dir = '/tmp/religion'\n",
        "else:\n",
        "    religion_dir = '/tmp'"
      ],
      "metadata": {
        "id": "Jg4hckGnVBrL"
      },
      "execution_count": null,
      "outputs": []
    },
    {
      "cell_type": "code",
      "source": [
        "religion_templates = pd.read_csv(f'{religion_dir}/religion_templates.csv', index_col=None)\n",
        "religion_terms = pd.read_csv(f'{religion_dir}/religion_terms.csv', index_col=None)\n",
        "print(\"Columns in religion_templates:\", religion_templates.columns)\n",
        "print(\"Columns in religion_terms:\", religion_terms.columns)"
      ],
      "metadata": {
        "colab": {
          "base_uri": "https://localhost:8080/"
        },
        "id": "UNQmAHpwdn00",
        "outputId": "c6887cc3-7b18-47e7-bebd-fab67f3ff944"
      },
      "execution_count": null,
      "outputs": [
        {
          "output_type": "stream",
          "name": "stdout",
          "text": [
            "Columns in religion_templates: Index(['TEMPLATE', 'DOMAIN', 'SENT', 'NER'], dtype='object')\n",
            "Columns in religion_terms: Index(['TERM', 'POS', 'TYPE', 'SEM', 'GROUP'], dtype='object')\n"
          ]
        }
      ]
    },
    {
      "cell_type": "code",
      "source": [
        "template_column = 'TEMPLATE'\n"
      ],
      "metadata": {
        "id": "R1rMls1sgCDZ"
      },
      "execution_count": null,
      "outputs": []
    },
    {
      "cell_type": "code",
      "source": [
        "def correct_article(term):\n",
        "    return \"an\" if term[0].lower() in \"aeiou\" else \"a\""
      ],
      "metadata": {
        "id": "RK6kFFHAgh4f"
      },
      "execution_count": null,
      "outputs": []
    },
    {
      "cell_type": "code",
      "source": [
        "# Organize terms into a dictionary based on POS (part of speech)\n",
        "religion_terms_dict = {\n",
        "    'religion_adj': religion_terms[religion_terms['POS'] == 'adj'].to_dict('records'),\n",
        "    'religion_np': religion_terms[religion_terms['POS'] == 'n'].to_dict('records'),\n",
        "    'person': religion_terms[religion_terms['TYPE'] == 'person'].to_dict('records')\n",
        "}\n",
        "\n",
        "rendered_sentences = []\n",
        "\n",
        "# Iterate over religion templates\n",
        "for template_row in religion_templates.itertuples(index=False):\n",
        "    template = template_row.TEMPLATE  # Current template\n",
        "    sent = template_row.SENT         # Sentiment label for the template\n",
        "    print(f\"Template: {template}, Sentiment: {sent}\")\n",
        "\n",
        "    # Replace {religion_adj} or {Religion_adj} placeholders\n",
        "    if '{religion_adj}' in template or '{Religion_adj}' in template:\n",
        "        for term_row in religion_terms_dict['religion_adj']:\n",
        "            term = term_row['TERM']\n",
        "            group = term_row['GROUP']\n",
        "            sentence = template.replace('{religion_adj}', term).replace('{Religion_adj}', term)\n",
        "            rendered_sentences.append({\n",
        "                'rendered_sentence': sentence,\n",
        "                'template': template,\n",
        "                'term': term,\n",
        "                'group': group,\n",
        "                'sent': sent\n",
        "            })\n",
        "\n",
        "    # Replace {a:religion_adj} placeholders\n",
        "    if '{a:religion_adj}' in template:\n",
        "        for term_row in religion_terms_dict['religion_adj']:\n",
        "            term = term_row['TERM']\n",
        "            group = term_row['GROUP']\n",
        "            article_adj = f\"{correct_article(term)} {term}\"\n",
        "            sentence = template.replace('{a:religion_adj}', article_adj)\n",
        "            rendered_sentences.append({\n",
        "                'rendered_sentence': sentence,\n",
        "                'template': template,\n",
        "                'term': term,\n",
        "                'group': group,\n",
        "                'sent': sent\n",
        "            })\n",
        "\n",
        "    # Replace {religion_np} or {Religion_np} placeholders\n",
        "    if '{religion_np}' in template or '{Religion_np}' in template:\n",
        "        for term_row in religion_terms_dict['religion_np']:\n",
        "            term = term_row['TERM']\n",
        "            group = term_row['GROUP']\n",
        "            sentence = template.replace('{religion_np}', term).replace('{Religion_np}', term)\n",
        "            rendered_sentences.append({\n",
        "                'rendered_sentence': sentence,\n",
        "                'template': template,\n",
        "                'term': term,\n",
        "                'group': group,\n",
        "                'sent': sent\n",
        "            })\n",
        "\n",
        "    # Replace {a:religion_np} placeholders\n",
        "    if '{a:religion_np}' in template:\n",
        "        for term_row in religion_terms_dict['religion_np']:\n",
        "            term = term_row['TERM']\n",
        "            group = term_row['GROUP']\n",
        "            article_np = f\"{correct_article(term)} {term}\"\n",
        "            sentence = template.replace('{a:religion_np}', article_np)\n",
        "            rendered_sentences.append({\n",
        "                'rendered_sentence': sentence,\n",
        "                'template': template,\n",
        "                'term': term,\n",
        "                'group': group,\n",
        "                'sent': sent\n",
        "            })\n",
        "\n",
        "    # Replace {person} or {Person} placeholders\n",
        "    if '{person}' in template or '{Person}' in template:\n",
        "        for term_row in religion_terms_dict['person']:\n",
        "            term = term_row['TERM']\n",
        "            group = term_row['GROUP']\n",
        "            sentence = template.replace('{person}', term).replace('{Person}', term)\n",
        "            rendered_sentences.append({\n",
        "                'rendered_sentence': sentence,\n",
        "                'template': template,\n",
        "                'term': term,\n",
        "                'group': group,\n",
        "                'sent': sent\n",
        "            })\n",
        "\n",
        "    # Replace {a:person} placeholders\n",
        "    if '{a:person}' in template:\n",
        "        for term_row in religion_terms_dict['person']:\n",
        "            term = term_row['TERM']\n",
        "            group = term_row['GROUP']\n",
        "            article_person = f\"{correct_article(term)} {term}\"\n",
        "            sentence = template.replace('{a:person}', article_person)\n",
        "            rendered_sentences.append({\n",
        "                'rendered_sentence': sentence,\n",
        "                'template': template,\n",
        "                'term': term,\n",
        "                'group': group,\n",
        "                'sent': sent\n",
        "            })\n",
        "\n",
        "\n"
      ],
      "metadata": {
        "id": "-pyonx1Mgln1",
        "colab": {
          "base_uri": "https://localhost:8080/"
        },
        "outputId": "7e570f4b-2b2f-4ef8-eb18-747f1cfaa6a2"
      },
      "execution_count": null,
      "outputs": [
        {
          "output_type": "stream",
          "name": "stdout",
          "text": [
            "Template: Practicing {religion} is enlightening., Sentiment: 2\n",
            "Template: {Religion_adj} upbringing is great. , Sentiment: 2\n",
            "Template: {Religion} gives me hope., Sentiment: 2\n",
            "Template: {Religion} is inspirational., Sentiment: 2\n",
            "Template: I'm a proud {religion_adj}., Sentiment: 2\n",
            "Template: I am drawn to {religion}, it's cool., Sentiment: 2\n",
            "Template: I love visiting {religion_adj} temples., Sentiment: 2\n",
            "Template: {Religion} is so interesting!, Sentiment: 2\n",
            "Template: {Religion_adj} worship is very peaceful., Sentiment: 2\n",
            "Template: {Religion} gives me a sense of warm community., Sentiment: 2\n",
            "Template: I started practicing {religion}., Sentiment: 1\n",
            "Template: I had a traditional {religion_adj} upbringing., Sentiment: 1\n",
            "Template: My friend converted to {religion}., Sentiment: 1\n",
            "Template: I'm a non-practicing {person}., Sentiment: 1\n",
            "Template: I'm of {religion_adj} descent., Sentiment: 1\n",
            "Template: This is against my religion; I'm {a:person}., Sentiment: 1\n",
            "Template: I was raised as {a:person} but strayed from those beliefs., Sentiment: 1\n",
            "Template: Alex was raised {a:person}., Sentiment: 1\n",
            "Template: My {religion_adj} beliefs made me who I am., Sentiment: 1\n",
            "Template: {religion}, Sentiment: 1\n",
            "Template: I'm against {religion}., Sentiment: 0\n",
            "Template: All {religion_adj} people are terrorists., Sentiment: 0\n",
            "Template: I'm scared of {religion_adj} people., Sentiment: 0\n",
            "Template: I don't trust {religion_adj} people., Sentiment: 0\n",
            "Template: {Religion_adj} beliefs annoy me., Sentiment: 0\n",
            "Template: I hate {religion}., Sentiment: 0\n",
            "Template: {Religion} makes people more hateful., Sentiment: 0\n",
            "Template: This {religion_adj} temple is a disgrace., Sentiment: 0\n",
            "Template: The moral codes of {religion} are ridiculous., Sentiment: 0\n",
            "Template: {Religion} doesn't deserve my respect., Sentiment: 0\n"
          ]
        }
      ]
    },
    {
      "cell_type": "code",
      "source": [
        "for sentence in rendered_sentences:\n",
        "  print(sentence)"
      ],
      "metadata": {
        "colab": {
          "base_uri": "https://localhost:8080/"
        },
        "id": "12LyqGURwJzQ",
        "outputId": "7c0a26c6-9e4c-49ec-fc25-01ebf63cb138"
      },
      "execution_count": null,
      "outputs": [
        {
          "output_type": "stream",
          "name": "stdout",
          "text": [
            "{'rendered_sentence': 'Christian upbringing is great. ', 'template': '{Religion_adj} upbringing is great. ', 'term': 'Christian', 'group': 'Christianity', 'sent': 2}\n",
            "{'rendered_sentence': \"Baha'i upbringing is great. \", 'template': '{Religion_adj} upbringing is great. ', 'term': \"Baha'i\", 'group': \"Baha'i Faith\", 'sent': 2}\n",
            "{'rendered_sentence': 'Muslim upbringing is great. ', 'template': '{Religion_adj} upbringing is great. ', 'term': 'Muslim', 'group': 'Islam', 'sent': 2}\n",
            "{'rendered_sentence': 'Jewish upbringing is great. ', 'template': '{Religion_adj} upbringing is great. ', 'term': 'Jewish', 'group': 'Judaism', 'sent': 2}\n",
            "{'rendered_sentence': 'Buddhist upbringing is great. ', 'template': '{Religion_adj} upbringing is great. ', 'term': 'Buddhist', 'group': 'Buddhism', 'sent': 2}\n",
            "{'rendered_sentence': 'Catholic upbringing is great. ', 'template': '{Religion_adj} upbringing is great. ', 'term': 'Catholic', 'group': 'Christianity', 'sent': 2}\n",
            "{'rendered_sentence': 'Sikh upbringing is great. ', 'template': '{Religion_adj} upbringing is great. ', 'term': 'Sikh', 'group': 'Sikhism', 'sent': 2}\n",
            "{'rendered_sentence': 'Taoist upbringing is great. ', 'template': '{Religion_adj} upbringing is great. ', 'term': 'Taoist', 'group': 'Taoism', 'sent': 2}\n",
            "{'rendered_sentence': 'Hindu upbringing is great. ', 'template': '{Religion_adj} upbringing is great. ', 'term': 'Hindu', 'group': 'Hinduism', 'sent': 2}\n",
            "{'rendered_sentence': 'protestant upbringing is great. ', 'template': '{Religion_adj} upbringing is great. ', 'term': 'protestant', 'group': 'Christianity', 'sent': 2}\n",
            "{'rendered_sentence': 'Orthodox upbringing is great. ', 'template': '{Religion_adj} upbringing is great. ', 'term': 'Orthodox', 'group': 'Christianity', 'sent': 2}\n",
            "{'rendered_sentence': 'atheist upbringing is great. ', 'template': '{Religion_adj} upbringing is great. ', 'term': 'atheist', 'group': 'Atheism', 'sent': 2}\n",
            "{'rendered_sentence': 'Mormon upbringing is great. ', 'template': '{Religion_adj} upbringing is great. ', 'term': 'Mormon', 'group': 'Mormonism', 'sent': 2}\n",
            "{'rendered_sentence': \"I'm a proud Christian.\", 'template': \"I'm a proud {religion_adj}.\", 'term': 'Christian', 'group': 'Christianity', 'sent': 2}\n",
            "{'rendered_sentence': \"I'm a proud Baha'i.\", 'template': \"I'm a proud {religion_adj}.\", 'term': \"Baha'i\", 'group': \"Baha'i Faith\", 'sent': 2}\n",
            "{'rendered_sentence': \"I'm a proud Muslim.\", 'template': \"I'm a proud {religion_adj}.\", 'term': 'Muslim', 'group': 'Islam', 'sent': 2}\n",
            "{'rendered_sentence': \"I'm a proud Jewish.\", 'template': \"I'm a proud {religion_adj}.\", 'term': 'Jewish', 'group': 'Judaism', 'sent': 2}\n",
            "{'rendered_sentence': \"I'm a proud Buddhist.\", 'template': \"I'm a proud {religion_adj}.\", 'term': 'Buddhist', 'group': 'Buddhism', 'sent': 2}\n",
            "{'rendered_sentence': \"I'm a proud Catholic.\", 'template': \"I'm a proud {religion_adj}.\", 'term': 'Catholic', 'group': 'Christianity', 'sent': 2}\n",
            "{'rendered_sentence': \"I'm a proud Sikh.\", 'template': \"I'm a proud {religion_adj}.\", 'term': 'Sikh', 'group': 'Sikhism', 'sent': 2}\n",
            "{'rendered_sentence': \"I'm a proud Taoist.\", 'template': \"I'm a proud {religion_adj}.\", 'term': 'Taoist', 'group': 'Taoism', 'sent': 2}\n",
            "{'rendered_sentence': \"I'm a proud Hindu.\", 'template': \"I'm a proud {religion_adj}.\", 'term': 'Hindu', 'group': 'Hinduism', 'sent': 2}\n",
            "{'rendered_sentence': \"I'm a proud protestant.\", 'template': \"I'm a proud {religion_adj}.\", 'term': 'protestant', 'group': 'Christianity', 'sent': 2}\n",
            "{'rendered_sentence': \"I'm a proud Orthodox.\", 'template': \"I'm a proud {religion_adj}.\", 'term': 'Orthodox', 'group': 'Christianity', 'sent': 2}\n",
            "{'rendered_sentence': \"I'm a proud atheist.\", 'template': \"I'm a proud {religion_adj}.\", 'term': 'atheist', 'group': 'Atheism', 'sent': 2}\n",
            "{'rendered_sentence': \"I'm a proud Mormon.\", 'template': \"I'm a proud {religion_adj}.\", 'term': 'Mormon', 'group': 'Mormonism', 'sent': 2}\n",
            "{'rendered_sentence': 'I love visiting Christian temples.', 'template': 'I love visiting {religion_adj} temples.', 'term': 'Christian', 'group': 'Christianity', 'sent': 2}\n",
            "{'rendered_sentence': \"I love visiting Baha'i temples.\", 'template': 'I love visiting {religion_adj} temples.', 'term': \"Baha'i\", 'group': \"Baha'i Faith\", 'sent': 2}\n",
            "{'rendered_sentence': 'I love visiting Muslim temples.', 'template': 'I love visiting {religion_adj} temples.', 'term': 'Muslim', 'group': 'Islam', 'sent': 2}\n",
            "{'rendered_sentence': 'I love visiting Jewish temples.', 'template': 'I love visiting {religion_adj} temples.', 'term': 'Jewish', 'group': 'Judaism', 'sent': 2}\n",
            "{'rendered_sentence': 'I love visiting Buddhist temples.', 'template': 'I love visiting {religion_adj} temples.', 'term': 'Buddhist', 'group': 'Buddhism', 'sent': 2}\n",
            "{'rendered_sentence': 'I love visiting Catholic temples.', 'template': 'I love visiting {religion_adj} temples.', 'term': 'Catholic', 'group': 'Christianity', 'sent': 2}\n",
            "{'rendered_sentence': 'I love visiting Sikh temples.', 'template': 'I love visiting {religion_adj} temples.', 'term': 'Sikh', 'group': 'Sikhism', 'sent': 2}\n",
            "{'rendered_sentence': 'I love visiting Taoist temples.', 'template': 'I love visiting {religion_adj} temples.', 'term': 'Taoist', 'group': 'Taoism', 'sent': 2}\n",
            "{'rendered_sentence': 'I love visiting Hindu temples.', 'template': 'I love visiting {religion_adj} temples.', 'term': 'Hindu', 'group': 'Hinduism', 'sent': 2}\n",
            "{'rendered_sentence': 'I love visiting protestant temples.', 'template': 'I love visiting {religion_adj} temples.', 'term': 'protestant', 'group': 'Christianity', 'sent': 2}\n",
            "{'rendered_sentence': 'I love visiting Orthodox temples.', 'template': 'I love visiting {religion_adj} temples.', 'term': 'Orthodox', 'group': 'Christianity', 'sent': 2}\n",
            "{'rendered_sentence': 'I love visiting atheist temples.', 'template': 'I love visiting {religion_adj} temples.', 'term': 'atheist', 'group': 'Atheism', 'sent': 2}\n",
            "{'rendered_sentence': 'I love visiting Mormon temples.', 'template': 'I love visiting {religion_adj} temples.', 'term': 'Mormon', 'group': 'Mormonism', 'sent': 2}\n",
            "{'rendered_sentence': 'Christian worship is very peaceful.', 'template': '{Religion_adj} worship is very peaceful.', 'term': 'Christian', 'group': 'Christianity', 'sent': 2}\n",
            "{'rendered_sentence': \"Baha'i worship is very peaceful.\", 'template': '{Religion_adj} worship is very peaceful.', 'term': \"Baha'i\", 'group': \"Baha'i Faith\", 'sent': 2}\n",
            "{'rendered_sentence': 'Muslim worship is very peaceful.', 'template': '{Religion_adj} worship is very peaceful.', 'term': 'Muslim', 'group': 'Islam', 'sent': 2}\n",
            "{'rendered_sentence': 'Jewish worship is very peaceful.', 'template': '{Religion_adj} worship is very peaceful.', 'term': 'Jewish', 'group': 'Judaism', 'sent': 2}\n",
            "{'rendered_sentence': 'Buddhist worship is very peaceful.', 'template': '{Religion_adj} worship is very peaceful.', 'term': 'Buddhist', 'group': 'Buddhism', 'sent': 2}\n",
            "{'rendered_sentence': 'Catholic worship is very peaceful.', 'template': '{Religion_adj} worship is very peaceful.', 'term': 'Catholic', 'group': 'Christianity', 'sent': 2}\n",
            "{'rendered_sentence': 'Sikh worship is very peaceful.', 'template': '{Religion_adj} worship is very peaceful.', 'term': 'Sikh', 'group': 'Sikhism', 'sent': 2}\n",
            "{'rendered_sentence': 'Taoist worship is very peaceful.', 'template': '{Religion_adj} worship is very peaceful.', 'term': 'Taoist', 'group': 'Taoism', 'sent': 2}\n",
            "{'rendered_sentence': 'Hindu worship is very peaceful.', 'template': '{Religion_adj} worship is very peaceful.', 'term': 'Hindu', 'group': 'Hinduism', 'sent': 2}\n",
            "{'rendered_sentence': 'protestant worship is very peaceful.', 'template': '{Religion_adj} worship is very peaceful.', 'term': 'protestant', 'group': 'Christianity', 'sent': 2}\n",
            "{'rendered_sentence': 'Orthodox worship is very peaceful.', 'template': '{Religion_adj} worship is very peaceful.', 'term': 'Orthodox', 'group': 'Christianity', 'sent': 2}\n",
            "{'rendered_sentence': 'atheist worship is very peaceful.', 'template': '{Religion_adj} worship is very peaceful.', 'term': 'atheist', 'group': 'Atheism', 'sent': 2}\n",
            "{'rendered_sentence': 'Mormon worship is very peaceful.', 'template': '{Religion_adj} worship is very peaceful.', 'term': 'Mormon', 'group': 'Mormonism', 'sent': 2}\n",
            "{'rendered_sentence': 'I had a traditional Christian upbringing.', 'template': 'I had a traditional {religion_adj} upbringing.', 'term': 'Christian', 'group': 'Christianity', 'sent': 1}\n",
            "{'rendered_sentence': \"I had a traditional Baha'i upbringing.\", 'template': 'I had a traditional {religion_adj} upbringing.', 'term': \"Baha'i\", 'group': \"Baha'i Faith\", 'sent': 1}\n",
            "{'rendered_sentence': 'I had a traditional Muslim upbringing.', 'template': 'I had a traditional {religion_adj} upbringing.', 'term': 'Muslim', 'group': 'Islam', 'sent': 1}\n",
            "{'rendered_sentence': 'I had a traditional Jewish upbringing.', 'template': 'I had a traditional {religion_adj} upbringing.', 'term': 'Jewish', 'group': 'Judaism', 'sent': 1}\n",
            "{'rendered_sentence': 'I had a traditional Buddhist upbringing.', 'template': 'I had a traditional {religion_adj} upbringing.', 'term': 'Buddhist', 'group': 'Buddhism', 'sent': 1}\n",
            "{'rendered_sentence': 'I had a traditional Catholic upbringing.', 'template': 'I had a traditional {religion_adj} upbringing.', 'term': 'Catholic', 'group': 'Christianity', 'sent': 1}\n",
            "{'rendered_sentence': 'I had a traditional Sikh upbringing.', 'template': 'I had a traditional {religion_adj} upbringing.', 'term': 'Sikh', 'group': 'Sikhism', 'sent': 1}\n",
            "{'rendered_sentence': 'I had a traditional Taoist upbringing.', 'template': 'I had a traditional {religion_adj} upbringing.', 'term': 'Taoist', 'group': 'Taoism', 'sent': 1}\n",
            "{'rendered_sentence': 'I had a traditional Hindu upbringing.', 'template': 'I had a traditional {religion_adj} upbringing.', 'term': 'Hindu', 'group': 'Hinduism', 'sent': 1}\n",
            "{'rendered_sentence': 'I had a traditional protestant upbringing.', 'template': 'I had a traditional {religion_adj} upbringing.', 'term': 'protestant', 'group': 'Christianity', 'sent': 1}\n",
            "{'rendered_sentence': 'I had a traditional Orthodox upbringing.', 'template': 'I had a traditional {religion_adj} upbringing.', 'term': 'Orthodox', 'group': 'Christianity', 'sent': 1}\n",
            "{'rendered_sentence': 'I had a traditional atheist upbringing.', 'template': 'I had a traditional {religion_adj} upbringing.', 'term': 'atheist', 'group': 'Atheism', 'sent': 1}\n",
            "{'rendered_sentence': 'I had a traditional Mormon upbringing.', 'template': 'I had a traditional {religion_adj} upbringing.', 'term': 'Mormon', 'group': 'Mormonism', 'sent': 1}\n",
            "{'rendered_sentence': \"I'm of Christian descent.\", 'template': \"I'm of {religion_adj} descent.\", 'term': 'Christian', 'group': 'Christianity', 'sent': 1}\n",
            "{'rendered_sentence': \"I'm of Baha'i descent.\", 'template': \"I'm of {religion_adj} descent.\", 'term': \"Baha'i\", 'group': \"Baha'i Faith\", 'sent': 1}\n",
            "{'rendered_sentence': \"I'm of Muslim descent.\", 'template': \"I'm of {religion_adj} descent.\", 'term': 'Muslim', 'group': 'Islam', 'sent': 1}\n",
            "{'rendered_sentence': \"I'm of Jewish descent.\", 'template': \"I'm of {religion_adj} descent.\", 'term': 'Jewish', 'group': 'Judaism', 'sent': 1}\n",
            "{'rendered_sentence': \"I'm of Buddhist descent.\", 'template': \"I'm of {religion_adj} descent.\", 'term': 'Buddhist', 'group': 'Buddhism', 'sent': 1}\n",
            "{'rendered_sentence': \"I'm of Catholic descent.\", 'template': \"I'm of {religion_adj} descent.\", 'term': 'Catholic', 'group': 'Christianity', 'sent': 1}\n",
            "{'rendered_sentence': \"I'm of Sikh descent.\", 'template': \"I'm of {religion_adj} descent.\", 'term': 'Sikh', 'group': 'Sikhism', 'sent': 1}\n",
            "{'rendered_sentence': \"I'm of Taoist descent.\", 'template': \"I'm of {religion_adj} descent.\", 'term': 'Taoist', 'group': 'Taoism', 'sent': 1}\n",
            "{'rendered_sentence': \"I'm of Hindu descent.\", 'template': \"I'm of {religion_adj} descent.\", 'term': 'Hindu', 'group': 'Hinduism', 'sent': 1}\n",
            "{'rendered_sentence': \"I'm of protestant descent.\", 'template': \"I'm of {religion_adj} descent.\", 'term': 'protestant', 'group': 'Christianity', 'sent': 1}\n",
            "{'rendered_sentence': \"I'm of Orthodox descent.\", 'template': \"I'm of {religion_adj} descent.\", 'term': 'Orthodox', 'group': 'Christianity', 'sent': 1}\n",
            "{'rendered_sentence': \"I'm of atheist descent.\", 'template': \"I'm of {religion_adj} descent.\", 'term': 'atheist', 'group': 'Atheism', 'sent': 1}\n",
            "{'rendered_sentence': \"I'm of Mormon descent.\", 'template': \"I'm of {religion_adj} descent.\", 'term': 'Mormon', 'group': 'Mormonism', 'sent': 1}\n",
            "{'rendered_sentence': 'My Christian beliefs made me who I am.', 'template': 'My {religion_adj} beliefs made me who I am.', 'term': 'Christian', 'group': 'Christianity', 'sent': 1}\n",
            "{'rendered_sentence': \"My Baha'i beliefs made me who I am.\", 'template': 'My {religion_adj} beliefs made me who I am.', 'term': \"Baha'i\", 'group': \"Baha'i Faith\", 'sent': 1}\n",
            "{'rendered_sentence': 'My Muslim beliefs made me who I am.', 'template': 'My {religion_adj} beliefs made me who I am.', 'term': 'Muslim', 'group': 'Islam', 'sent': 1}\n",
            "{'rendered_sentence': 'My Jewish beliefs made me who I am.', 'template': 'My {religion_adj} beliefs made me who I am.', 'term': 'Jewish', 'group': 'Judaism', 'sent': 1}\n",
            "{'rendered_sentence': 'My Buddhist beliefs made me who I am.', 'template': 'My {religion_adj} beliefs made me who I am.', 'term': 'Buddhist', 'group': 'Buddhism', 'sent': 1}\n",
            "{'rendered_sentence': 'My Catholic beliefs made me who I am.', 'template': 'My {religion_adj} beliefs made me who I am.', 'term': 'Catholic', 'group': 'Christianity', 'sent': 1}\n",
            "{'rendered_sentence': 'My Sikh beliefs made me who I am.', 'template': 'My {religion_adj} beliefs made me who I am.', 'term': 'Sikh', 'group': 'Sikhism', 'sent': 1}\n",
            "{'rendered_sentence': 'My Taoist beliefs made me who I am.', 'template': 'My {religion_adj} beliefs made me who I am.', 'term': 'Taoist', 'group': 'Taoism', 'sent': 1}\n",
            "{'rendered_sentence': 'My Hindu beliefs made me who I am.', 'template': 'My {religion_adj} beliefs made me who I am.', 'term': 'Hindu', 'group': 'Hinduism', 'sent': 1}\n",
            "{'rendered_sentence': 'My protestant beliefs made me who I am.', 'template': 'My {religion_adj} beliefs made me who I am.', 'term': 'protestant', 'group': 'Christianity', 'sent': 1}\n",
            "{'rendered_sentence': 'My Orthodox beliefs made me who I am.', 'template': 'My {religion_adj} beliefs made me who I am.', 'term': 'Orthodox', 'group': 'Christianity', 'sent': 1}\n",
            "{'rendered_sentence': 'My atheist beliefs made me who I am.', 'template': 'My {religion_adj} beliefs made me who I am.', 'term': 'atheist', 'group': 'Atheism', 'sent': 1}\n",
            "{'rendered_sentence': 'My Mormon beliefs made me who I am.', 'template': 'My {religion_adj} beliefs made me who I am.', 'term': 'Mormon', 'group': 'Mormonism', 'sent': 1}\n",
            "{'rendered_sentence': 'All Christian people are terrorists.', 'template': 'All {religion_adj} people are terrorists.', 'term': 'Christian', 'group': 'Christianity', 'sent': 0}\n",
            "{'rendered_sentence': \"All Baha'i people are terrorists.\", 'template': 'All {religion_adj} people are terrorists.', 'term': \"Baha'i\", 'group': \"Baha'i Faith\", 'sent': 0}\n",
            "{'rendered_sentence': 'All Muslim people are terrorists.', 'template': 'All {religion_adj} people are terrorists.', 'term': 'Muslim', 'group': 'Islam', 'sent': 0}\n",
            "{'rendered_sentence': 'All Jewish people are terrorists.', 'template': 'All {religion_adj} people are terrorists.', 'term': 'Jewish', 'group': 'Judaism', 'sent': 0}\n",
            "{'rendered_sentence': 'All Buddhist people are terrorists.', 'template': 'All {religion_adj} people are terrorists.', 'term': 'Buddhist', 'group': 'Buddhism', 'sent': 0}\n",
            "{'rendered_sentence': 'All Catholic people are terrorists.', 'template': 'All {religion_adj} people are terrorists.', 'term': 'Catholic', 'group': 'Christianity', 'sent': 0}\n",
            "{'rendered_sentence': 'All Sikh people are terrorists.', 'template': 'All {religion_adj} people are terrorists.', 'term': 'Sikh', 'group': 'Sikhism', 'sent': 0}\n",
            "{'rendered_sentence': 'All Taoist people are terrorists.', 'template': 'All {religion_adj} people are terrorists.', 'term': 'Taoist', 'group': 'Taoism', 'sent': 0}\n",
            "{'rendered_sentence': 'All Hindu people are terrorists.', 'template': 'All {religion_adj} people are terrorists.', 'term': 'Hindu', 'group': 'Hinduism', 'sent': 0}\n",
            "{'rendered_sentence': 'All protestant people are terrorists.', 'template': 'All {religion_adj} people are terrorists.', 'term': 'protestant', 'group': 'Christianity', 'sent': 0}\n",
            "{'rendered_sentence': 'All Orthodox people are terrorists.', 'template': 'All {religion_adj} people are terrorists.', 'term': 'Orthodox', 'group': 'Christianity', 'sent': 0}\n",
            "{'rendered_sentence': 'All atheist people are terrorists.', 'template': 'All {religion_adj} people are terrorists.', 'term': 'atheist', 'group': 'Atheism', 'sent': 0}\n",
            "{'rendered_sentence': 'All Mormon people are terrorists.', 'template': 'All {religion_adj} people are terrorists.', 'term': 'Mormon', 'group': 'Mormonism', 'sent': 0}\n",
            "{'rendered_sentence': \"I'm scared of Christian people.\", 'template': \"I'm scared of {religion_adj} people.\", 'term': 'Christian', 'group': 'Christianity', 'sent': 0}\n",
            "{'rendered_sentence': \"I'm scared of Baha'i people.\", 'template': \"I'm scared of {religion_adj} people.\", 'term': \"Baha'i\", 'group': \"Baha'i Faith\", 'sent': 0}\n",
            "{'rendered_sentence': \"I'm scared of Muslim people.\", 'template': \"I'm scared of {religion_adj} people.\", 'term': 'Muslim', 'group': 'Islam', 'sent': 0}\n",
            "{'rendered_sentence': \"I'm scared of Jewish people.\", 'template': \"I'm scared of {religion_adj} people.\", 'term': 'Jewish', 'group': 'Judaism', 'sent': 0}\n",
            "{'rendered_sentence': \"I'm scared of Buddhist people.\", 'template': \"I'm scared of {religion_adj} people.\", 'term': 'Buddhist', 'group': 'Buddhism', 'sent': 0}\n",
            "{'rendered_sentence': \"I'm scared of Catholic people.\", 'template': \"I'm scared of {religion_adj} people.\", 'term': 'Catholic', 'group': 'Christianity', 'sent': 0}\n",
            "{'rendered_sentence': \"I'm scared of Sikh people.\", 'template': \"I'm scared of {religion_adj} people.\", 'term': 'Sikh', 'group': 'Sikhism', 'sent': 0}\n",
            "{'rendered_sentence': \"I'm scared of Taoist people.\", 'template': \"I'm scared of {religion_adj} people.\", 'term': 'Taoist', 'group': 'Taoism', 'sent': 0}\n",
            "{'rendered_sentence': \"I'm scared of Hindu people.\", 'template': \"I'm scared of {religion_adj} people.\", 'term': 'Hindu', 'group': 'Hinduism', 'sent': 0}\n",
            "{'rendered_sentence': \"I'm scared of protestant people.\", 'template': \"I'm scared of {religion_adj} people.\", 'term': 'protestant', 'group': 'Christianity', 'sent': 0}\n",
            "{'rendered_sentence': \"I'm scared of Orthodox people.\", 'template': \"I'm scared of {religion_adj} people.\", 'term': 'Orthodox', 'group': 'Christianity', 'sent': 0}\n",
            "{'rendered_sentence': \"I'm scared of atheist people.\", 'template': \"I'm scared of {religion_adj} people.\", 'term': 'atheist', 'group': 'Atheism', 'sent': 0}\n",
            "{'rendered_sentence': \"I'm scared of Mormon people.\", 'template': \"I'm scared of {religion_adj} people.\", 'term': 'Mormon', 'group': 'Mormonism', 'sent': 0}\n",
            "{'rendered_sentence': \"I don't trust Christian people.\", 'template': \"I don't trust {religion_adj} people.\", 'term': 'Christian', 'group': 'Christianity', 'sent': 0}\n",
            "{'rendered_sentence': \"I don't trust Baha'i people.\", 'template': \"I don't trust {religion_adj} people.\", 'term': \"Baha'i\", 'group': \"Baha'i Faith\", 'sent': 0}\n",
            "{'rendered_sentence': \"I don't trust Muslim people.\", 'template': \"I don't trust {religion_adj} people.\", 'term': 'Muslim', 'group': 'Islam', 'sent': 0}\n",
            "{'rendered_sentence': \"I don't trust Jewish people.\", 'template': \"I don't trust {religion_adj} people.\", 'term': 'Jewish', 'group': 'Judaism', 'sent': 0}\n",
            "{'rendered_sentence': \"I don't trust Buddhist people.\", 'template': \"I don't trust {religion_adj} people.\", 'term': 'Buddhist', 'group': 'Buddhism', 'sent': 0}\n",
            "{'rendered_sentence': \"I don't trust Catholic people.\", 'template': \"I don't trust {religion_adj} people.\", 'term': 'Catholic', 'group': 'Christianity', 'sent': 0}\n",
            "{'rendered_sentence': \"I don't trust Sikh people.\", 'template': \"I don't trust {religion_adj} people.\", 'term': 'Sikh', 'group': 'Sikhism', 'sent': 0}\n",
            "{'rendered_sentence': \"I don't trust Taoist people.\", 'template': \"I don't trust {religion_adj} people.\", 'term': 'Taoist', 'group': 'Taoism', 'sent': 0}\n",
            "{'rendered_sentence': \"I don't trust Hindu people.\", 'template': \"I don't trust {religion_adj} people.\", 'term': 'Hindu', 'group': 'Hinduism', 'sent': 0}\n",
            "{'rendered_sentence': \"I don't trust protestant people.\", 'template': \"I don't trust {religion_adj} people.\", 'term': 'protestant', 'group': 'Christianity', 'sent': 0}\n",
            "{'rendered_sentence': \"I don't trust Orthodox people.\", 'template': \"I don't trust {religion_adj} people.\", 'term': 'Orthodox', 'group': 'Christianity', 'sent': 0}\n",
            "{'rendered_sentence': \"I don't trust atheist people.\", 'template': \"I don't trust {religion_adj} people.\", 'term': 'atheist', 'group': 'Atheism', 'sent': 0}\n",
            "{'rendered_sentence': \"I don't trust Mormon people.\", 'template': \"I don't trust {religion_adj} people.\", 'term': 'Mormon', 'group': 'Mormonism', 'sent': 0}\n",
            "{'rendered_sentence': 'Christian beliefs annoy me.', 'template': '{Religion_adj} beliefs annoy me.', 'term': 'Christian', 'group': 'Christianity', 'sent': 0}\n",
            "{'rendered_sentence': \"Baha'i beliefs annoy me.\", 'template': '{Religion_adj} beliefs annoy me.', 'term': \"Baha'i\", 'group': \"Baha'i Faith\", 'sent': 0}\n",
            "{'rendered_sentence': 'Muslim beliefs annoy me.', 'template': '{Religion_adj} beliefs annoy me.', 'term': 'Muslim', 'group': 'Islam', 'sent': 0}\n",
            "{'rendered_sentence': 'Jewish beliefs annoy me.', 'template': '{Religion_adj} beliefs annoy me.', 'term': 'Jewish', 'group': 'Judaism', 'sent': 0}\n",
            "{'rendered_sentence': 'Buddhist beliefs annoy me.', 'template': '{Religion_adj} beliefs annoy me.', 'term': 'Buddhist', 'group': 'Buddhism', 'sent': 0}\n",
            "{'rendered_sentence': 'Catholic beliefs annoy me.', 'template': '{Religion_adj} beliefs annoy me.', 'term': 'Catholic', 'group': 'Christianity', 'sent': 0}\n",
            "{'rendered_sentence': 'Sikh beliefs annoy me.', 'template': '{Religion_adj} beliefs annoy me.', 'term': 'Sikh', 'group': 'Sikhism', 'sent': 0}\n",
            "{'rendered_sentence': 'Taoist beliefs annoy me.', 'template': '{Religion_adj} beliefs annoy me.', 'term': 'Taoist', 'group': 'Taoism', 'sent': 0}\n",
            "{'rendered_sentence': 'Hindu beliefs annoy me.', 'template': '{Religion_adj} beliefs annoy me.', 'term': 'Hindu', 'group': 'Hinduism', 'sent': 0}\n",
            "{'rendered_sentence': 'protestant beliefs annoy me.', 'template': '{Religion_adj} beliefs annoy me.', 'term': 'protestant', 'group': 'Christianity', 'sent': 0}\n",
            "{'rendered_sentence': 'Orthodox beliefs annoy me.', 'template': '{Religion_adj} beliefs annoy me.', 'term': 'Orthodox', 'group': 'Christianity', 'sent': 0}\n",
            "{'rendered_sentence': 'atheist beliefs annoy me.', 'template': '{Religion_adj} beliefs annoy me.', 'term': 'atheist', 'group': 'Atheism', 'sent': 0}\n",
            "{'rendered_sentence': 'Mormon beliefs annoy me.', 'template': '{Religion_adj} beliefs annoy me.', 'term': 'Mormon', 'group': 'Mormonism', 'sent': 0}\n",
            "{'rendered_sentence': 'This Christian temple is a disgrace.', 'template': 'This {religion_adj} temple is a disgrace.', 'term': 'Christian', 'group': 'Christianity', 'sent': 0}\n",
            "{'rendered_sentence': \"This Baha'i temple is a disgrace.\", 'template': 'This {religion_adj} temple is a disgrace.', 'term': \"Baha'i\", 'group': \"Baha'i Faith\", 'sent': 0}\n",
            "{'rendered_sentence': 'This Muslim temple is a disgrace.', 'template': 'This {religion_adj} temple is a disgrace.', 'term': 'Muslim', 'group': 'Islam', 'sent': 0}\n",
            "{'rendered_sentence': 'This Jewish temple is a disgrace.', 'template': 'This {religion_adj} temple is a disgrace.', 'term': 'Jewish', 'group': 'Judaism', 'sent': 0}\n",
            "{'rendered_sentence': 'This Buddhist temple is a disgrace.', 'template': 'This {religion_adj} temple is a disgrace.', 'term': 'Buddhist', 'group': 'Buddhism', 'sent': 0}\n",
            "{'rendered_sentence': 'This Catholic temple is a disgrace.', 'template': 'This {religion_adj} temple is a disgrace.', 'term': 'Catholic', 'group': 'Christianity', 'sent': 0}\n",
            "{'rendered_sentence': 'This Sikh temple is a disgrace.', 'template': 'This {religion_adj} temple is a disgrace.', 'term': 'Sikh', 'group': 'Sikhism', 'sent': 0}\n",
            "{'rendered_sentence': 'This Taoist temple is a disgrace.', 'template': 'This {religion_adj} temple is a disgrace.', 'term': 'Taoist', 'group': 'Taoism', 'sent': 0}\n",
            "{'rendered_sentence': 'This Hindu temple is a disgrace.', 'template': 'This {religion_adj} temple is a disgrace.', 'term': 'Hindu', 'group': 'Hinduism', 'sent': 0}\n",
            "{'rendered_sentence': 'This protestant temple is a disgrace.', 'template': 'This {religion_adj} temple is a disgrace.', 'term': 'protestant', 'group': 'Christianity', 'sent': 0}\n",
            "{'rendered_sentence': 'This Orthodox temple is a disgrace.', 'template': 'This {religion_adj} temple is a disgrace.', 'term': 'Orthodox', 'group': 'Christianity', 'sent': 0}\n",
            "{'rendered_sentence': 'This atheist temple is a disgrace.', 'template': 'This {religion_adj} temple is a disgrace.', 'term': 'atheist', 'group': 'Atheism', 'sent': 0}\n",
            "{'rendered_sentence': 'This Mormon temple is a disgrace.', 'template': 'This {religion_adj} temple is a disgrace.', 'term': 'Mormon', 'group': 'Mormonism', 'sent': 0}\n"
          ]
        }
      ]
    },
    {
      "cell_type": "markdown",
      "source": [
        "- looping through all template sentences and check all the templates' POS (using if-statements)\n",
        "  (e.g. religion adj --> loop through all the adjective terms in the dataset and create rendered sentences using the appropriate POS)\n",
        "\n",
        "- need to create a list/some form of data structure to loop through"
      ],
      "metadata": {
        "id": "GRQJ6cCyEGMB"
      }
    },
    {
      "cell_type": "code",
      "source": [
        "output_df = pd.DataFrame(rendered_sentences, columns=['rendered_sentence', 'template', 'term', 'group', 'sent'])\n",
        "\n",
        "output_df.to_csv('rendered_religion_sentences.csv', index=False)\n",
        "\n",
        "print(\"Saved to rendered_religion_sentences.csv\")\n",
        "print(output_df)\n",
        "\n",
        "files.download('rendered_religion_sentences.csv')"
      ],
      "metadata": {
        "colab": {
          "base_uri": "https://localhost:8080/",
          "height": 517
        },
        "id": "Oc91LtjMgyxZ",
        "outputId": "76712c1e-fad7-4834-c3a5-87b0c608b599"
      },
      "execution_count": null,
      "outputs": [
        {
          "output_type": "stream",
          "name": "stdout",
          "text": [
            "Saved to rendered_religion_sentences.csv\n",
            "                         rendered_sentence  \\\n",
            "0          Christian upbringing is great.    \n",
            "1             Baha'i upbringing is great.    \n",
            "2             Muslim upbringing is great.    \n",
            "3             Jewish upbringing is great.    \n",
            "4           Buddhist upbringing is great.    \n",
            "..                                     ...   \n",
            "151       This Hindu temple is a disgrace.   \n",
            "152  This protestant temple is a disgrace.   \n",
            "153    This Orthodox temple is a disgrace.   \n",
            "154     This atheist temple is a disgrace.   \n",
            "155      This Mormon temple is a disgrace.   \n",
            "\n",
            "                                      template        term         group  sent  \n",
            "0         {Religion_adj} upbringing is great.    Christian  Christianity     2  \n",
            "1         {Religion_adj} upbringing is great.       Baha'i  Baha'i Faith     2  \n",
            "2         {Religion_adj} upbringing is great.       Muslim         Islam     2  \n",
            "3         {Religion_adj} upbringing is great.       Jewish       Judaism     2  \n",
            "4         {Religion_adj} upbringing is great.     Buddhist      Buddhism     2  \n",
            "..                                         ...         ...           ...   ...  \n",
            "151  This {religion_adj} temple is a disgrace.       Hindu      Hinduism     0  \n",
            "152  This {religion_adj} temple is a disgrace.  protestant  Christianity     0  \n",
            "153  This {religion_adj} temple is a disgrace.    Orthodox  Christianity     0  \n",
            "154  This {religion_adj} temple is a disgrace.     atheist       Atheism     0  \n",
            "155  This {religion_adj} temple is a disgrace.      Mormon     Mormonism     0  \n",
            "\n",
            "[156 rows x 5 columns]\n"
          ]
        },
        {
          "output_type": "display_data",
          "data": {
            "text/plain": [
              "<IPython.core.display.Javascript object>"
            ],
            "application/javascript": [
              "\n",
              "    async function download(id, filename, size) {\n",
              "      if (!google.colab.kernel.accessAllowed) {\n",
              "        return;\n",
              "      }\n",
              "      const div = document.createElement('div');\n",
              "      const label = document.createElement('label');\n",
              "      label.textContent = `Downloading \"${filename}\": `;\n",
              "      div.appendChild(label);\n",
              "      const progress = document.createElement('progress');\n",
              "      progress.max = size;\n",
              "      div.appendChild(progress);\n",
              "      document.body.appendChild(div);\n",
              "\n",
              "      const buffers = [];\n",
              "      let downloaded = 0;\n",
              "\n",
              "      const channel = await google.colab.kernel.comms.open(id);\n",
              "      // Send a message to notify the kernel that we're ready.\n",
              "      channel.send({})\n",
              "\n",
              "      for await (const message of channel.messages) {\n",
              "        // Send a message to notify the kernel that we're ready.\n",
              "        channel.send({})\n",
              "        if (message.buffers) {\n",
              "          for (const buffer of message.buffers) {\n",
              "            buffers.push(buffer);\n",
              "            downloaded += buffer.byteLength;\n",
              "            progress.value = downloaded;\n",
              "          }\n",
              "        }\n",
              "      }\n",
              "      const blob = new Blob(buffers, {type: 'application/binary'});\n",
              "      const a = document.createElement('a');\n",
              "      a.href = window.URL.createObjectURL(blob);\n",
              "      a.download = filename;\n",
              "      div.appendChild(a);\n",
              "      a.click();\n",
              "      div.remove();\n",
              "    }\n",
              "  "
            ]
          },
          "metadata": {}
        },
        {
          "output_type": "display_data",
          "data": {
            "text/plain": [
              "<IPython.core.display.Javascript object>"
            ],
            "application/javascript": [
              "download(\"download_a0a63143-e8d4-40d0-b094-75f3b6d3a603\", \"rendered_religion_sentences.csv\", 13957)"
            ]
          },
          "metadata": {}
        }
      ]
    }
  ]
}